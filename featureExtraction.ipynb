{
 "cells": [
  {
   "cell_type": "code",
   "execution_count": 15,
   "metadata": {
    "collapsed": false
   },
   "outputs": [
    {
     "data": {
      "text/plain": [
       "<StationLine.none: 99>"
      ]
     },
     "execution_count": 15,
     "metadata": {},
     "output_type": "execute_result"
    }
   ],
   "source": [
    "'''\n",
    "Line extraction\n",
    "This class extract which smrt line sentence belongs to \n",
    "'''\n",
    "import re\n",
    "from enum import Enum\n",
    "\n",
    "class StationLine(Enum):\n",
    "    red = 1\n",
    "    green = 2\n",
    "    circle = 3\n",
    "    purple = 4\n",
    "    blue = 5\n",
    "    brown = 6\n",
    "    none = 99\n",
    "\n",
    "class ExtractStationLine:\n",
    "\n",
    "    redLineList = [\"[nsl]\",\"[nsl]:\", \"ns\", \"nsl\", \"north south\", \"north south line\", \"nsline\", \"ns line\"]\n",
    "    greenLineList = [\"[ewl]\",\"[ewl]:\",\"ew\", \"ewl\", \"east west\", \"east west line\", \"ewline\", \"ew line\"]\n",
    "    circleLineList = [\"[ccl]\",\"[ccl]:\",\"cc\", \"ccl\", \"circle line\", \"circleline\", \"cc line\"]\n",
    "    purpleLineList = [\"[nel]\",\"[nel]:\",\"ne\", \"nel\", \"north east\", \"north east line\", \"neline\", \"ne line\"]\n",
    "    blueLineList = [\"[dtl]\",\"[dtl]:\",\"dt\", \"dtl\", \"down town\", \"down town line\", \"dtline\", \"dt line\"]\n",
    "    brownLineList = [\"[tecl]\",\"[tecl]:\",\"tec\", \"tecl\", \"thomson-east Coast\", \"thomson-east Coast line\", \"tecline\", \"tec line\"]\n",
    "    \n",
    "    def checkStationLine(self, jsonData):\n",
    "        if self.containKey(StationLine.red, jsonData):\n",
    "            return StationLine.red\n",
    "        elif self.containKey(StationLine.green, jsonData):\n",
    "            return StationLine.green\n",
    "        elif self.containKey(StationLine.circle, jsonData):\n",
    "            return StationLine.circle\n",
    "        elif self.containKey(StationLine.purple, jsonData):\n",
    "            return StationLine.purple\n",
    "        elif self.containKey(StationLine.blue, jsonData):\n",
    "            return StationLine.blue\n",
    "        elif self.containKey(StationLine.brown, jsonData):\n",
    "            return StationLine.brown\n",
    "        else:\n",
    "            return StationLine.none\n",
    "            \n",
    "    def containKey(self, stationType, jsonData):\n",
    "        if stationType is StationLine.red:\n",
    "            lineList = self.redLineList\n",
    "        elif stationType is StationLine.green:\n",
    "            lineList = self.greenLineList\n",
    "        elif stationType is StationLine.circle:\n",
    "            lineList = self.circleLineList\n",
    "        elif stationType is StationLine.purple:\n",
    "            lineList = self.purpleLineList\n",
    "        elif stationType is StationLine.blue:\n",
    "            lineList = self.blueLineList\n",
    "        elif stationType is StationLine.brown:\n",
    "            lineList = self.brownLineList\n",
    "#         print(lineList)\n",
    "        \n",
    "        isContainKey = False\n",
    "        for key in lineList:    \n",
    "            result = self.findWholeWord(key)(jsonData)\n",
    "            if result is not None:        \n",
    "                isContainKey = True\n",
    "                break\n",
    "        return isContainKey\n",
    "\n",
    "    def findWholeWord(self, w):\n",
    "        return re.compile(r'\\b({0})\\b'.format(w), flags=re.IGNORECASE).search\n",
    "\n",
    "extStLine = ExtractStationLine()\n",
    "extStLine.checkStationLine(\"This sentence contain key words for blah blah some rubbish words train station line\")"
   ]
  }
 ],
 "metadata": {
  "anaconda-cloud": {},
  "kernelspec": {
   "display_name": "Python [default]",
   "language": "python",
   "name": "python3"
  },
  "language_info": {
   "codemirror_mode": {
    "name": "ipython",
    "version": 3
   },
   "file_extension": ".py",
   "mimetype": "text/x-python",
   "name": "python",
   "nbconvert_exporter": "python",
   "pygments_lexer": "ipython3",
   "version": "3.5.2"
  }
 },
 "nbformat": 4,
 "nbformat_minor": 1
}
