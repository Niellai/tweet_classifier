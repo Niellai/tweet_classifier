{
 "cells": [
  {
   "cell_type": "code",
   "execution_count": 3,
   "metadata": {
    "collapsed": false
   },
   "outputs": [],
   "source": [
    "import numpy as np"
   ]
  },
  {
   "cell_type": "code",
   "execution_count": 68,
   "metadata": {
    "collapsed": false
   },
   "outputs": [],
   "source": [
    "class ReadWrite():\n",
    "    def writeFile(self, fileName, records):\n",
    "        # Open a file\n",
    "        fo = open(fileName, \"w\")\n",
    "        for idx, rec in enumerate(records):\n",
    "            if(idx == len(records)-1):\n",
    "                fo.write(\"{}\\n\".format(rec));\n",
    "            else:\n",
    "                fo.write(\"{},\\n\".format(rec));\n",
    "\n",
    "        # Close opend file\n",
    "        print(\"Write file complete. {}\".format(fileName))\n",
    "        fo.close()\n",
    "\n",
    "    def readFile(self, fileName):\n",
    "        with open(fileName, \"r+\") as file:\n",
    "            resultArr = []\n",
    "            for line in file:\n",
    "                line = line.replace(\"[\", \"\")\n",
    "                line = line.replace(\"]\", \"\")\n",
    "                line = line.replace(\"\\n\", \"\")\n",
    "                lineArr = line.split(',')\n",
    "                lineArr.pop()\n",
    "                lineArr = list(map(int, lineArr))\n",
    "                resultArr.append(lineArr)\n",
    "        print(\"Read complete, total records: {}\".format(len(result)))\n",
    "        return np.array(resultArr, dtype=np.array)\n",
    "    \n",
    "    def readFileClassifier(self, fileName):\n",
    "        result = []\n",
    "        with open(fileName, \"r+\") as file:\n",
    "            for line in file:\n",
    "                line = line.replace(\"\\n\", \"\")\n",
    "                result.append(int(line))\n",
    "        print(\"Read complete, total records: {}\".format(len(result)))\n",
    "        return np.array(result)        \n",
    "    "
   ]
  },
  {
   "cell_type": "code",
   "execution_count": 69,
   "metadata": {
    "collapsed": false
   },
   "outputs": [
    {
     "name": "stdout",
     "output_type": "stream",
     "text": [
      "Read complete, total records: 731\n"
     ]
    },
    {
     "ename": "TypeError",
     "evalue": "data type not understood",
     "output_type": "error",
     "traceback": [
      "\u001b[0;31m---------------------------------------------------------------------------\u001b[0m",
      "\u001b[0;31mTypeError\u001b[0m                                 Traceback (most recent call last)",
      "\u001b[0;32m<ipython-input-69-146931758943>\u001b[0m in \u001b[0;36m<module>\u001b[0;34m()\u001b[0m\n\u001b[1;32m      1\u001b[0m \u001b[0mreadWrite\u001b[0m \u001b[1;33m=\u001b[0m \u001b[0mReadWrite\u001b[0m\u001b[1;33m(\u001b[0m\u001b[1;33m)\u001b[0m\u001b[1;33m\u001b[0m\u001b[0m\n\u001b[0;32m----> 2\u001b[0;31m \u001b[0mresult\u001b[0m \u001b[1;33m=\u001b[0m \u001b[0mreadWrite\u001b[0m\u001b[1;33m.\u001b[0m\u001b[0mreadFile\u001b[0m\u001b[1;33m(\u001b[0m\u001b[1;34m\"docVectors1.csv\"\u001b[0m\u001b[1;33m)\u001b[0m\u001b[1;33m\u001b[0m\u001b[0m\n\u001b[0m\u001b[1;32m      3\u001b[0m \u001b[0mprint\u001b[0m\u001b[1;33m(\u001b[0m\u001b[0mresult\u001b[0m\u001b[1;33m)\u001b[0m\u001b[1;33m\u001b[0m\u001b[0m\n\u001b[1;32m      4\u001b[0m \u001b[1;33m\u001b[0m\u001b[0m\n\u001b[1;32m      5\u001b[0m \u001b[0marr1\u001b[0m \u001b[1;33m=\u001b[0m \u001b[1;33m[\u001b[0m\u001b[1;34m\"1\"\u001b[0m\u001b[1;33m,\u001b[0m\u001b[1;34m\"2\"\u001b[0m\u001b[1;33m,\u001b[0m\u001b[1;34m\"3\"\u001b[0m\u001b[1;33m]\u001b[0m\u001b[1;33m\u001b[0m\u001b[0m\n",
      "\u001b[0;32m<ipython-input-68-cccac4a3892a>\u001b[0m in \u001b[0;36mreadFile\u001b[0;34m(self, fileName)\u001b[0m\n\u001b[1;32m     25\u001b[0m                 \u001b[0mresultArr\u001b[0m\u001b[1;33m.\u001b[0m\u001b[0mappend\u001b[0m\u001b[1;33m(\u001b[0m\u001b[0mlineArr\u001b[0m\u001b[1;33m)\u001b[0m\u001b[1;33m\u001b[0m\u001b[0m\n\u001b[1;32m     26\u001b[0m         \u001b[0mprint\u001b[0m\u001b[1;33m(\u001b[0m\u001b[1;34m\"Read complete, total records: {}\"\u001b[0m\u001b[1;33m.\u001b[0m\u001b[0mformat\u001b[0m\u001b[1;33m(\u001b[0m\u001b[0mlen\u001b[0m\u001b[1;33m(\u001b[0m\u001b[0mresult\u001b[0m\u001b[1;33m)\u001b[0m\u001b[1;33m)\u001b[0m\u001b[1;33m)\u001b[0m\u001b[1;33m\u001b[0m\u001b[0m\n\u001b[0;32m---> 27\u001b[0;31m         \u001b[1;32mreturn\u001b[0m \u001b[0mnp\u001b[0m\u001b[1;33m.\u001b[0m\u001b[0marray\u001b[0m\u001b[1;33m(\u001b[0m\u001b[0mresultArr\u001b[0m\u001b[1;33m,\u001b[0m \u001b[0mdtype\u001b[0m\u001b[1;33m=\u001b[0m\u001b[0mnp\u001b[0m\u001b[1;33m.\u001b[0m\u001b[0marray\u001b[0m\u001b[1;33m)\u001b[0m\u001b[1;33m\u001b[0m\u001b[0m\n\u001b[0m\u001b[1;32m     28\u001b[0m \u001b[1;33m\u001b[0m\u001b[0m\n\u001b[1;32m     29\u001b[0m     \u001b[1;32mdef\u001b[0m \u001b[0mreadFileClassifier\u001b[0m\u001b[1;33m(\u001b[0m\u001b[0mself\u001b[0m\u001b[1;33m,\u001b[0m \u001b[0mfileName\u001b[0m\u001b[1;33m)\u001b[0m\u001b[1;33m:\u001b[0m\u001b[1;33m\u001b[0m\u001b[0m\n",
      "\u001b[0;31mTypeError\u001b[0m: data type not understood"
     ]
    }
   ],
   "source": [
    "readWrite = ReadWrite()\n",
    "result = readWrite.readFile(\"docVectors1.csv\")\n",
    "print(result)\n",
    "\n",
    "arr1 = [\"1\",\"2\",\"3\"]\n",
    "arr2 = [\"4\",\"5\",\"6\"]\n",
    "arrR = []\n",
    "arrR.append(list(map(int, arr1)))\n",
    "arrR.append(list(map(int, arr2)))\n",
    "arrR = np.array(arrR)\n",
    "\n",
    "print(arrR)\n",
    "print(arrR.shape)\n",
    "\n",
    "\n",
    "# result1 = readWrite.readCSV(\"docVectors.csv\")\n",
    "# print(result1[1])\n",
    "\n",
    "# result = readWrite.readFileClassifier(\"docVectors1Result.txt\")\n",
    "# print(result.shape)"
   ]
  }
 ],
 "metadata": {
  "kernelspec": {
   "display_name": "Python [default]",
   "language": "python",
   "name": "python3"
  },
  "language_info": {
   "codemirror_mode": {
    "name": "ipython",
    "version": 3
   },
   "file_extension": ".py",
   "mimetype": "text/x-python",
   "name": "python",
   "nbconvert_exporter": "python",
   "pygments_lexer": "ipython3",
   "version": "3.5.2"
  }
 },
 "nbformat": 4,
 "nbformat_minor": 1
}
