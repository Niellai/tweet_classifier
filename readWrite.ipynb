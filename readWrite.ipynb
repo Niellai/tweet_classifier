{
 "cells": [
  {
   "cell_type": "code",
   "execution_count": 69,
   "metadata": {
    "collapsed": false
   },
   "outputs": [],
   "source": [
    "import numpy as np"
   ]
  },
  {
   "cell_type": "code",
   "execution_count": 103,
   "metadata": {
    "collapsed": false
   },
   "outputs": [],
   "source": [
    "class ReadWrite():\n",
    "    def writeFile(self, fileName, records):\n",
    "        # Open a file\n",
    "        fo = open(fileName, \"w\")\n",
    "        for idx, rec in enumerate(records):\n",
    "            if(idx == len(records)-1):\n",
    "                fo.write(\"{}\\n\".format(rec));\n",
    "            else:\n",
    "                fo.write(\"{},\\n\".format(rec));\n",
    "\n",
    "        # Close opend file\n",
    "        print(\"Write file complete. {}\".format(fileName))\n",
    "        fo.close()\n",
    "\n",
    "    def readFile(self, fileName):\n",
    "        result = []\n",
    "        with open(fileName, \"r+\") as file:\n",
    "            for line in file:\n",
    "                line = line.replace(\"[\", \"\")\n",
    "                line = line.replace(\"]\", \"\")\n",
    "                line = line.replace(\"\\n\", \"\")\n",
    "                arr = line.split(',')\n",
    "                arr.pop()\n",
    "                arr = list(map(int, arr))                 \n",
    "                result.append(arr) \n",
    "        print(\"Read complete, total records: {}\".format(len(result)))\n",
    "        return np.array(result)\n",
    "\n",
    "    "
   ]
  },
  {
   "cell_type": "code",
   "execution_count": 102,
   "metadata": {
    "collapsed": false
   },
   "outputs": [
    {
     "name": "stdout",
     "output_type": "stream",
     "text": [
      "Total records: 973\n",
      "[1612, 906, 1113, 1388, 154, 1422, 719, 719, 1104, 100, 691, 0, 0, 0, 0, 0, 0, 0, 0, 0]\n"
     ]
    }
   ],
   "source": [
    "# readWrite = ReadWrite()\n",
    "# result = readWrite.readFile(\"docVectors.csv\")\n",
    "# print(result[0])\n",
    "\n",
    "# result1 = readWrite.readCSV(\"docVectors.csv\")\n",
    "# print(result1[1])"
   ]
  }
 ],
 "metadata": {
  "kernelspec": {
   "display_name": "Python [default]",
   "language": "python",
   "name": "python3"
  },
  "language_info": {
   "codemirror_mode": {
    "name": "ipython",
    "version": 3
   },
   "file_extension": ".py",
   "mimetype": "text/x-python",
   "name": "python",
   "nbconvert_exporter": "python",
   "pygments_lexer": "ipython3",
   "version": "3.5.2"
  }
 },
 "nbformat": 4,
 "nbformat_minor": 1
}
