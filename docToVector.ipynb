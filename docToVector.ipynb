{
 "cells": [
  {
   "cell_type": "code",
   "execution_count": 1,
   "metadata": {
    "collapsed": false
   },
   "outputs": [
    {
     "name": "stdout",
     "output_type": "stream",
     "text": [
      "importing Jupyter notebook from dictionary.ipynb\n",
      "[nltk_data] Downloading package stopwords to\n",
      "[nltk_data]     C:\\Users\\himur\\AppData\\Roaming\\nltk_data...\n",
      "[nltk_data]   Package stopwords is already up-to-date!\n",
      "[nltk_data] Downloading package punkt to\n",
      "[nltk_data]     C:\\Users\\himur\\AppData\\Roaming\\nltk_data...\n",
      "[nltk_data]   Package punkt is already up-to-date!\n",
      "importing Jupyter notebook from readWrite.ipynb\n"
     ]
    }
   ],
   "source": [
    "import codecs\n",
    "import os.path\n",
    "import re\n",
    "import numpy as np\n",
    "\n",
    "import import_notebook\n",
    "from dictionary import Dictionary\n",
    "from readWrite import ReadWrite"
   ]
  },
  {
   "cell_type": "code",
   "execution_count": 2,
   "metadata": {
    "collapsed": false
   },
   "outputs": [
    {
     "name": "stdout",
     "output_type": "stream",
     "text": [
      "Dictionary count: 1785\n"
     ]
    }
   ],
   "source": [
    "fileName = \"combine_tweets.txt\"\n",
    "dic = Dictionary()\n",
    "resultArr = dic.readFile(fileName, True)\n",
    "resultSets = dic.createSet(resultArr)\n",
    "dicMap = dic.createVector(resultSets)\n",
    "\n",
    "print(\"Dictionary count: {}\".format(len(resultSets)))"
   ]
  },
  {
   "cell_type": "code",
   "execution_count": 3,
   "metadata": {
    "collapsed": false
   },
   "outputs": [
    {
     "name": "stdout",
     "output_type": "stream",
     "text": [
      "Converting records to vectors...\n",
      "Max length of record: 20\n",
      "IsPadding enable: True\n",
      "Write file complete. docVectors1.csv\n"
     ]
    }
   ],
   "source": [
    "def getMaxLenght(tweetRecords):\n",
    "    tweetRecords = np.array(tweetRecords)\n",
    "    return len(max(tweetRecords, key=len))\n",
    "\n",
    "# provide tweetSets and default is no padding\n",
    "def convertVector(tweetRecords, isPadding=False):\n",
    "    maxLen = getMaxLenght(tweetRecords)\n",
    "    print(\"Converting records to vectors...\")\n",
    "    print(\"Max length of record: {}\".format(maxLen))\n",
    "    print(\"IsPadding enable: {}\".format(isPadding))\n",
    "    tweetRecVectors = []\n",
    "    for record in tweetRecords:\n",
    "        recVectors = []\n",
    "        for word in record:\n",
    "            if word in dicMap:\n",
    "                recVectors.append(dicMap[word])\n",
    "            else: \n",
    "                recVectors.append(dicMap[\"UNK\"])\n",
    "        # padding to same length\n",
    "        if isPadding and len(recVectors) < maxLen:\n",
    "            for i in range(len(recVectors), maxLen) :\n",
    "                recVectors.append(dicMap[\"NONE\"])      \n",
    "        tweetRecVectors.append(recVectors)\n",
    "    return tweetRecVectors\n",
    "\n",
    "# store doc vectors as numpy array\n",
    "resultArr1 = dic.readFile(\"user_tweets.txt\", True)\n",
    "docVectors1 = convertVector(resultArr1, True)\n",
    "\n",
    "# resultArr2 = dic.readFile(\"user_tweets2.txt\", True)\n",
    "# docVectors2 = convertVector(resultArr2, True)\n",
    "\n",
    "# write docVectors\n",
    "readWrite = ReadWrite()\n",
    "readWrite.writeFile(\"docVectors1.csv\", docVectors1)\n",
    "# readWrite.writeFile(\"docVectors2.csv\", docVectors2)\n"
   ]
  },
  {
   "cell_type": "code",
   "execution_count": 5,
   "metadata": {
    "collapsed": false
   },
   "outputs": [
    {
     "name": "stdout",
     "output_type": "stream",
     "text": [
      "Read complete, total records: 973\n",
      "[990, 131, 707, 1361, 1491, 95, 707, 404, 739, 591, 707, 0, 0, 0, 0, 0, 0, 0, 0, 0]\n"
     ]
    }
   ],
   "source": [
    "# read docVectors\n",
    "readWrite = ReadWrite()\n",
    "result1 = readWrite.readFile(\"docVectors.csv\")\n",
    "print(result1[1])"
   ]
  }
 ],
 "metadata": {
  "anaconda-cloud": {},
  "kernelspec": {
   "display_name": "Python [default]",
   "language": "python",
   "name": "python3"
  },
  "language_info": {
   "codemirror_mode": {
    "name": "ipython",
    "version": 3
   },
   "file_extension": ".py",
   "mimetype": "text/x-python",
   "name": "python",
   "nbconvert_exporter": "python",
   "pygments_lexer": "ipython3",
   "version": "3.5.2"
  }
 },
 "nbformat": 4,
 "nbformat_minor": 1
}
