{
 "cells": [
  {
   "cell_type": "code",
   "execution_count": 1,
   "metadata": {
    "collapsed": false
   },
   "outputs": [
    {
     "name": "stdout",
     "output_type": "stream",
     "text": [
      "importing Jupyter notebook from dictionary.ipynb\n",
      "[nltk_data] Downloading package stopwords to\n",
      "[nltk_data]     C:\\Users\\himur\\AppData\\Roaming\\nltk_data...\n",
      "[nltk_data]   Package stopwords is already up-to-date!\n",
      "[nltk_data] Downloading package punkt to\n",
      "[nltk_data]     C:\\Users\\himur\\AppData\\Roaming\\nltk_data...\n",
      "[nltk_data]   Package punkt is already up-to-date!\n",
      "importing Jupyter notebook from readWrite.ipynb\n"
     ]
    }
   ],
   "source": [
    "import codecs\n",
    "import os.path\n",
    "import re\n",
    "import numpy as np\n",
    "\n",
    "import import_notebook\n",
    "from dictionary import Dictionary\n",
    "from readWrite import ReadWrite"
   ]
  },
  {
   "cell_type": "code",
   "execution_count": 2,
   "metadata": {
    "collapsed": false
   },
   "outputs": [],
   "source": [
    "class DocToVector:\n",
    "    dicMap = []\n",
    "    dic = Dictionary()\n",
    "    \n",
    "    def __init__(self):\n",
    "        fileName = \"combine_tweets.txt\"\n",
    "        resultArr = self.dic.readFile(fileName, True)\n",
    "        resultSets = self.dic.createSet(resultArr)\n",
    "        self.dicMap = self.dic.createVector(resultSets)\n",
    "        print(\"Dictionary count: {}\".format(len(resultSets)))\n",
    "        \n",
    "    def getMaxLength(self, tweetRecords):\n",
    "        tweetRecords = np.array(tweetRecords)\n",
    "        return len(max(tweetRecords, key=len))\n",
    "\n",
    "    # provide tweetSets and default is no padding\n",
    "    def convertVector(self, tweetRecords, isPadding=False):\n",
    "        maxLen = self.getMaxLength(tweetRecords)\n",
    "        maxLen = 20\n",
    "        print(\"Converting records to vectors...\")\n",
    "        print(\"Max length of record: {}\".format(maxLen))\n",
    "        print(\"IsPadding enable: {}\".format(isPadding))\n",
    "        tweetRecVectors = []\n",
    "        for record in tweetRecords:\n",
    "            recVectors = []\n",
    "            for word in record:            \n",
    "                if word in self.dicMap:\n",
    "                    recVectors.append(self.dicMap[word])\n",
    "                else: \n",
    "                    recVectors.append(self.dicMap[\"UNK\"])\n",
    "            # padding to same length\n",
    "            if isPadding and len(recVectors) < maxLen:            \n",
    "                for i in range(len(recVectors), maxLen) :\n",
    "                    recVectors.append(self.dicMap[\"NONE\"])             \n",
    "            tweetRecVectors.append(recVectors)\n",
    "        return tweetRecVectors"
   ]
  },
  {
   "cell_type": "code",
   "execution_count": 3,
   "metadata": {
    "collapsed": false
   },
   "outputs": [
    {
     "name": "stdout",
     "output_type": "stream",
     "text": [
      "Dictionary count: 2375\n"
     ]
    }
   ],
   "source": [
    "# store doc vectors as numpy array\n",
    "# dic = Dictionary()\n",
    "# docToVector = DocToVector()\n",
    "# resultArr1 = dic.readFile(\"user_tweets.txt\", True)\n",
    "# docVectors1 = docToVector.convertVector(resultArr1, True)\n",
    "# print(docVectors1)\n",
    "\n",
    "# resultArr2 = dic.readFile(\"user_tweets2.txt\", True)\n",
    "# docVectors2 = convertVector(resultArr2, True)\n",
    "\n",
    "# resultArr3 = dic.readFile(\"user_tweets3.txt\", True)\n",
    "# docToVector = DocToVector()\n",
    "# docVectors3 = docToVector.convertVector(resultArr3, True)\n",
    "# print(docVectors3)\n",
    "\n",
    "# write docVectors\n",
    "# readWrite = ReadWrite()\n",
    "# readWrite.writeFile(\"docVectors1.csv\", docVectors1)\n",
    "# readWrite.writeFile(\"docVectors2.csv\", docVectors2)\n",
    "# readWrite.writeFile(\"docVectors3.csv\", docVectors3)"
   ]
  },
  {
   "cell_type": "code",
   "execution_count": 4,
   "metadata": {
    "collapsed": false
   },
   "outputs": [],
   "source": [
    "# read docVectors\n",
    "# readWrite = ReadWrite()\n",
    "# result1 = readWrite.readFile(\"docVectors.csv\")\n",
    "# print(result1[1])"
   ]
  }
 ],
 "metadata": {
  "anaconda-cloud": {},
  "kernelspec": {
   "display_name": "Python [default]",
   "language": "python",
   "name": "python3"
  },
  "language_info": {
   "codemirror_mode": {
    "name": "ipython",
    "version": 3
   },
   "file_extension": ".py",
   "mimetype": "text/x-python",
   "name": "python",
   "nbconvert_exporter": "python",
   "pygments_lexer": "ipython3",
   "version": "3.5.2"
  }
 },
 "nbformat": 4,
 "nbformat_minor": 1
}
