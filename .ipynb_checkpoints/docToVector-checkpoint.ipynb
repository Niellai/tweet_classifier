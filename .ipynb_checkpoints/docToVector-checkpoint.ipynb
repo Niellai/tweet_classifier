{
 "cells": [
  {
   "cell_type": "code",
   "execution_count": 10,
   "metadata": {
    "collapsed": false
   },
   "outputs": [],
   "source": [
    "import codecs\n",
    "import os.path\n",
    "import re\n",
    "import numpy as np\n",
    "\n",
    "import import_notebook\n",
    "from dictionary import Dictionary\n",
    "from readWrite import ReadWrite"
   ]
  },
  {
   "cell_type": "code",
   "execution_count": 11,
   "metadata": {
    "collapsed": false
   },
   "outputs": [
    {
     "name": "stdout",
     "output_type": "stream",
     "text": [
      "Dictionary count: 1785\n"
     ]
    }
   ],
   "source": [
    "fileName = \"combine_tweets.txt\"\n",
    "dic = Dictionary()\n",
    "resultArr = dic.readFile(fileName, True)\n",
    "resultSets = dic.createSet(resultArr)\n",
    "dicMap = dic.createVector(resultSets)\n",
    "\n",
    "print(\"Dictionary count: {}\".format(len(resultSets)))"
   ]
  },
  {
   "cell_type": "code",
   "execution_count": 14,
   "metadata": {
    "collapsed": false
   },
   "outputs": [
    {
     "name": "stdout",
     "output_type": "stream",
     "text": [
      "Converting records to vectors...\n",
      "Max length of record: 20\n",
      "IsPadding enable: True\n",
      "Converting records to vectors...\n",
      "Max length of record: 20\n",
      "IsPadding enable: True\n"
     ]
    },
    {
     "ename": "KeyError",
     "evalue": "'besid'",
     "output_type": "error",
     "traceback": [
      "\u001b[0;31m---------------------------------------------------------------------------\u001b[0m",
      "\u001b[0;31mKeyError\u001b[0m                                  Traceback (most recent call last)",
      "\u001b[0;32m<ipython-input-14-4037c060ba32>\u001b[0m in \u001b[0;36m<module>\u001b[0;34m()\u001b[0m\n\u001b[1;32m     26\u001b[0m \u001b[1;33m\u001b[0m\u001b[0m\n\u001b[1;32m     27\u001b[0m \u001b[0mresultArr2\u001b[0m \u001b[1;33m=\u001b[0m \u001b[0mdic\u001b[0m\u001b[1;33m.\u001b[0m\u001b[0mreadFile\u001b[0m\u001b[1;33m(\u001b[0m\u001b[1;34m\"user_tweets2.txt\"\u001b[0m\u001b[1;33m,\u001b[0m \u001b[1;32mTrue\u001b[0m\u001b[1;33m)\u001b[0m\u001b[1;33m\u001b[0m\u001b[0m\n\u001b[0;32m---> 28\u001b[0;31m \u001b[0mdocVectors2\u001b[0m \u001b[1;33m=\u001b[0m \u001b[0mconvertVector\u001b[0m\u001b[1;33m(\u001b[0m\u001b[0mresultArr2\u001b[0m\u001b[1;33m,\u001b[0m \u001b[1;32mTrue\u001b[0m\u001b[1;33m)\u001b[0m\u001b[1;33m\u001b[0m\u001b[0m\n\u001b[0m\u001b[1;32m     29\u001b[0m \u001b[1;33m\u001b[0m\u001b[0m\n\u001b[1;32m     30\u001b[0m \u001b[1;31m# write docVectors\u001b[0m\u001b[1;33m\u001b[0m\u001b[1;33m\u001b[0m\u001b[0m\n",
      "\u001b[0;32m<ipython-input-14-4037c060ba32>\u001b[0m in \u001b[0;36mconvertVector\u001b[0;34m(tweetRecords, isPadding)\u001b[0m\n\u001b[1;32m     13\u001b[0m         \u001b[0mrecVectors\u001b[0m \u001b[1;33m=\u001b[0m \u001b[1;33m[\u001b[0m\u001b[1;33m]\u001b[0m\u001b[1;33m\u001b[0m\u001b[0m\n\u001b[1;32m     14\u001b[0m         \u001b[1;32mfor\u001b[0m \u001b[0mword\u001b[0m \u001b[1;32min\u001b[0m \u001b[0mrecord\u001b[0m\u001b[1;33m:\u001b[0m\u001b[1;33m\u001b[0m\u001b[0m\n\u001b[0;32m---> 15\u001b[0;31m             \u001b[0mrecVectors\u001b[0m\u001b[1;33m.\u001b[0m\u001b[0mappend\u001b[0m\u001b[1;33m(\u001b[0m\u001b[0mdicMap\u001b[0m\u001b[1;33m[\u001b[0m\u001b[0mword\u001b[0m\u001b[1;33m]\u001b[0m\u001b[1;33m)\u001b[0m\u001b[1;33m\u001b[0m\u001b[0m\n\u001b[0m\u001b[1;32m     16\u001b[0m         \u001b[1;31m# padding to same length\u001b[0m\u001b[1;33m\u001b[0m\u001b[1;33m\u001b[0m\u001b[0m\n\u001b[1;32m     17\u001b[0m         \u001b[1;32mif\u001b[0m \u001b[0misPadding\u001b[0m \u001b[1;32mand\u001b[0m \u001b[0mlen\u001b[0m\u001b[1;33m(\u001b[0m\u001b[0mrecVectors\u001b[0m\u001b[1;33m)\u001b[0m \u001b[1;33m<\u001b[0m \u001b[0mmaxLen\u001b[0m\u001b[1;33m:\u001b[0m\u001b[1;33m\u001b[0m\u001b[0m\n",
      "\u001b[0;31mKeyError\u001b[0m: 'besid'"
     ]
    }
   ],
   "source": [
    "def getMaxLenght(tweetRecords):\n",
    "    tweetRecords = np.array(tweetRecords)\n",
    "    return len(max(tweetRecords, key=len))\n",
    "\n",
    "# provide tweetSets and default is no padding\n",
    "def convertVector(tweetRecords, isPadding=False):\n",
    "    maxLen = getMaxLenght(tweetRecords)\n",
    "    print(\"Converting records to vectors...\")\n",
    "    print(\"Max length of record: {}\".format(maxLen))\n",
    "    print(\"IsPadding enable: {}\".format(isPadding))\n",
    "    tweetRecVectors = []\n",
    "    for record in tweetRecords:\n",
    "        recVectors = []\n",
    "        for word in record:\n",
    "            if word in dicMap:\n",
    "                recVectors.append(dicMap[word])\n",
    "            else: \n",
    "                recVectors.append(dicMap[\"UNK\"])\n",
    "        # padding to same length\n",
    "        if isPadding and len(recVectors) < maxLen:\n",
    "            for i in range(len(recVectors), maxLen) :\n",
    "                recVectors.append(dicMap[\"NONE\"])      \n",
    "        tweetRecVectors.append(recVectors)\n",
    "    return tweetRecVectors\n",
    "\n",
    "# store doc vectors as numpy array\n",
    "resultArr1 = dic.readFile(\"user_tweets.txt\", True)\n",
    "docVectors1 = convertVector(resultArr1, True)\n",
    "\n",
    "resultArr2 = dic.readFile(\"user_tweets2.txt\", True)\n",
    "docVectors2 = convertVector(resultArr2, True)\n",
    "\n",
    "# write docVectors\n",
    "readWrite = ReadWrite()\n",
    "readWrite.writeFile(\"docVectors1.csv\", docVectors1)\n",
    "readWrite.writeFile(\"docVectors2.csv\", docVectors2)\n"
   ]
  },
  {
   "cell_type": "code",
   "execution_count": 5,
   "metadata": {
    "collapsed": false
   },
   "outputs": [
    {
     "name": "stdout",
     "output_type": "stream",
     "text": [
      "Read complete, total records: 973\n",
      "[990, 131, 707, 1361, 1491, 95, 707, 404, 739, 591, 707, 0, 0, 0, 0, 0, 0, 0, 0, 0]\n"
     ]
    }
   ],
   "source": [
    "# read docVectors\n",
    "readWrite = ReadWrite()\n",
    "result1 = readWrite.readFile(\"docVectors.csv\")\n",
    "print(result1[1])"
   ]
  }
 ],
 "metadata": {
  "kernelspec": {
   "display_name": "Python [default]",
   "language": "python",
   "name": "python3"
  },
  "language_info": {
   "codemirror_mode": {
    "name": "ipython",
    "version": 3
   },
   "file_extension": ".py",
   "mimetype": "text/x-python",
   "name": "python",
   "nbconvert_exporter": "python",
   "pygments_lexer": "ipython3",
   "version": "3.5.2"
  }
 },
 "nbformat": 4,
 "nbformat_minor": 1
}
