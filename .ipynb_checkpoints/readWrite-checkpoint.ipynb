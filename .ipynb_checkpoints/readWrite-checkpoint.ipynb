{
 "cells": [
  {
   "cell_type": "code",
   "execution_count": 1,
   "metadata": {
    "collapsed": false
   },
   "outputs": [],
   "source": [
    "import numpy as np"
   ]
  },
  {
   "cell_type": "code",
   "execution_count": 12,
   "metadata": {
    "collapsed": false
   },
   "outputs": [],
   "source": [
    "class ReadWrite():\n",
    "    \n",
    "    def writeFile(self, fileName, records):\n",
    "        # Open a file\n",
    "        fo = open(fileName, \"w\")\n",
    "        for idx, rec in enumerate(records):\n",
    "            if(idx == len(records)-1):\n",
    "                fo.write(\"{}\\n\".format(rec));\n",
    "            else:\n",
    "                fo.write(\"{},\\n\".format(rec));\n",
    "\n",
    "        # Close opend file\n",
    "        print(\"Write file complete. {}\".format(fileName))\n",
    "        fo.close()\n",
    "\n",
    "    # Read original file in text\n",
    "    def readOriFile(self, fileName):\n",
    "        with open(fileName, \"r+\", encoding=\"utf8\", errors='ignore') as file:\n",
    "            results = []\n",
    "            for line in file:\n",
    "                results.append(line)\n",
    "        return results            \n",
    "        \n",
    "    # Read vector dataset file\n",
    "    def readFile(self, fileName):\n",
    "        with open(fileName, \"r+\", encoding=\"utf8\", errors='ignore') as file:\n",
    "            resultArr = []\n",
    "            for line in file:\n",
    "                line = line.replace(\"[\", \"\")\n",
    "                line = line.replace(\"]\", \"\")\n",
    "                line = line.replace(\"\\n\", \"\")\n",
    "                lineArr = line.split(',')                 \n",
    "                if(not lineArr[-1]): # last item empty pop it\n",
    "                    lineArr.pop()   \n",
    "                \n",
    "                if(len(lineArr)>20): \n",
    "                    lineArr = lineArr[:20]\n",
    "                    print(\"line size more than 20, trim to: {}\".format(lineArr))\n",
    "                    \n",
    "                lineArr = list(map(int, lineArr))                          \n",
    "                resultArr.append(lineArr)                            \n",
    "        print(\"Read complete, total records: {}\".format(len(resultArr)))\n",
    "        return np.array(resultArr)\n",
    "    \n",
    "    # Read vector classify result    \n",
    "    def readFileClassifier(self, fileName):        \n",
    "        with open(fileName, \"r+\", encoding=\"utf8\", errors='ignore') as file:\n",
    "            result = []\n",
    "            for line in file:\n",
    "                line = line.replace(\"\\n\", \"\")\n",
    "                result.append(int(line))\n",
    "        print(\"Read complete, total records: {}\".format(len(result)))\n",
    "        return np.array(result)        \n",
    "    "
   ]
  },
  {
   "cell_type": "code",
   "execution_count": 3,
   "metadata": {
    "collapsed": false
   },
   "outputs": [],
   "source": [
    "# readWrite = ReadWrite()\n",
    "# result = readWrite.readOriFile('user_tweets3.txt')\n",
    "# result = readWrite.readFile(\"docVectors3.csv\")\n",
    "\n",
    "# result1 = readWrite.readCSV(\"docVectors.csv\")\n",
    "# print(result1[1])\n",
    "\n",
    "# result = readWrite.readFileClassifier(\"docVectors1Result.txt\")\n",
    "# print(result.shape)"
   ]
  }
 ],
 "metadata": {
  "anaconda-cloud": {},
  "kernelspec": {
   "display_name": "Python [default]",
   "language": "python",
   "name": "python3"
  },
  "language_info": {
   "codemirror_mode": {
    "name": "ipython",
    "version": 3
   },
   "file_extension": ".py",
   "mimetype": "text/x-python",
   "name": "python",
   "nbconvert_exporter": "python",
   "pygments_lexer": "ipython3",
   "version": "3.5.2"
  }
 },
 "nbformat": 4,
 "nbformat_minor": 1
}
