{
 "cells": [
  {
   "cell_type": "code",
   "execution_count": 42,
   "metadata": {
    "collapsed": false
   },
   "outputs": [],
   "source": [
    "import numpy as np\n",
    "from sklearn.model_selection import GridSearchCV\n",
    "from sklearn.pipeline import Pipeline\n",
    "from sklearn.feature_extraction.text import CountVectorizer\n",
    "from sklearn.feature_extraction.text import TfidfTransformer\n",
    "from sklearn.naive_bayes import MultinomialNB\n",
    "\n",
    "import import_notebook\n",
    "from readWrite import ReadWrite"
   ]
  },
  {
   "cell_type": "code",
   "execution_count": 66,
   "metadata": {
    "collapsed": false
   },
   "outputs": [],
   "source": [
    "class TweetClassifier(object):\n",
    "    readWrite = ReadWrite()\n",
    "    xdata = []\n",
    "    ydata = []\n",
    "    gs_clf = []\n",
    "    \n",
    "    def __init__(self):\n",
    "        tweetFile = \"combine_tweets.txt\"\n",
    "        tweetClassFile = \"combineVectorsResult.txt\"\n",
    "        self.xdata = self.readWrite.readOriFile(tweetFile)\n",
    "        self.ydata = self.readWrite.readFileClassifier(tweetClassFile)\n",
    "        self.xdata = np.array(self.xdata)\n",
    "        self.ydata = np.array(self.ydata)\n",
    "        print(\"xdata: {}\".format(self.xdata.shape))\n",
    "        print(\"ydata: {}\".format(self.ydata.shape))\n",
    "    \n",
    "    def gridSearchFit(self):\n",
    "        text_clf = Pipeline([('vect', CountVectorizer()), ('tfidf', TfidfTransformer()), ('clf', MultinomialNB())])\n",
    "        text_clf = text_clf.fit(self.xdata, self.ydata)\n",
    "        \n",
    "        parameters = {'vect__ngram_range': [(1, 1), (1, 2)], 'tfidf__use_idf': (True, False), 'clf__alpha': (1e-2, 1e-3)}\n",
    "        self.gs_clf = GridSearchCV(text_clf, parameters, n_jobs=-1)\n",
    "        self.gs_clf = self.gs_clf.fit(self.xdata, self.ydata)\n",
    "        \n",
    "    def predict(self, sentence):\n",
    "        arr = []\n",
    "        arr.append(sentence)\n",
    "        predicted = self.gs_clf.predict(arr)\n",
    "        self.printPredict(predicted, arr)\n",
    "        return predicted\n",
    "    \n",
    "    def predictDataset(self, dataset):\n",
    "        predicted = self.gs_clf.predict(dataset)\n",
    "        self.printPredict(predicted, dataset)\n",
    "        return predicted\n",
    "        \n",
    "    def printPredict(self, predicted, data):\n",
    "        for idx, score in enumerate(predicted):    \n",
    "            if(score > 0): \n",
    "                print(score)\n",
    "                print(data[idx])"
   ]
  },
  {
   "cell_type": "code",
   "execution_count": 72,
   "metadata": {
    "collapsed": false
   },
   "outputs": [],
   "source": [
    "# tweetClassifier = TweetClassifier()\n",
    "# tweetClassifier.gridSearchFit()"
   ]
  },
  {
   "cell_type": "code",
   "execution_count": 73,
   "metadata": {
    "collapsed": false
   },
   "outputs": [],
   "source": [
    "# readWrite = ReadWrite()\n",
    "# tweetLive = \"user_tweet_live.txt\"    \n",
    "# livedata = readWrite.readOriFile(tweetLive)\n",
    "# livedata = np.array(livedata)\n",
    "        \n",
    "# predicted = tweetClassifier.predictDataset(livedata)\n",
    "# predicted = tweetClassifier.predict(\"@SMRT_Singapore signal fault, add 20min travel time from Joo koon to chinese garden.\")"
   ]
  }
 ],
 "metadata": {
  "kernelspec": {
   "display_name": "Python [default]",
   "language": "python",
   "name": "python3"
  },
  "language_info": {
   "codemirror_mode": {
    "name": "ipython",
    "version": 3
   },
   "file_extension": ".py",
   "mimetype": "text/x-python",
   "name": "python",
   "nbconvert_exporter": "python",
   "pygments_lexer": "ipython3",
   "version": "3.5.2"
  }
 },
 "nbformat": 4,
 "nbformat_minor": 1
}
