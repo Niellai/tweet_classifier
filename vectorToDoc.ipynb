{
 "cells": [
  {
   "cell_type": "code",
   "execution_count": 1,
   "metadata": {
    "collapsed": false
   },
   "outputs": [
    {
     "name": "stdout",
     "output_type": "stream",
     "text": [
      "importing Jupyter notebook from dictionary.ipynb\n",
      "[nltk_data] Downloading package stopwords to\n",
      "[nltk_data]     C:\\Users\\himur\\AppData\\Roaming\\nltk_data...\n",
      "[nltk_data]   Package stopwords is already up-to-date!\n",
      "[nltk_data] Downloading package punkt to\n",
      "[nltk_data]     C:\\Users\\himur\\AppData\\Roaming\\nltk_data...\n",
      "[nltk_data]   Package punkt is already up-to-date!\n",
      "importing Jupyter notebook from readWrite.ipynb\n"
     ]
    }
   ],
   "source": [
    "import codecs\n",
    "import os.path\n",
    "import re\n",
    "import numpy as np\n",
    "\n",
    "import import_notebook\n",
    "from dictionary import Dictionary\n",
    "from readWrite import ReadWrite"
   ]
  },
  {
   "cell_type": "code",
   "execution_count": 2,
   "metadata": {
    "collapsed": false
   },
   "outputs": [],
   "source": [
    "class VectorToDoc:       \n",
    "    invDicMap = []\n",
    "    def __init__(self):        \n",
    "        fileName = \"combine_tweets.txt\"\n",
    "        dic = Dictionary()\n",
    "        resultArr = dic.readFile(fileName, True)\n",
    "        resultSets = dic.createSet(resultArr)\n",
    "        dicMap = dic.createVector(resultSets)\n",
    "        self.invDicMap = {v: k for k, v in dicMap.items()}\n",
    "        print(\"Dictionary count: {}\".format(len(self.invDicMap)))\n",
    "    \n",
    "    def getMaxLength(self, tweetRecords):\n",
    "        tweetRecords = np.array(tweetRecords)\n",
    "        return len(max(tweetRecords, key=len))\n",
    "\n",
    "    def convertDoc(self, vecRecords):\n",
    "        tweetRecords = []        \n",
    "        for record in vecRecords:            \n",
    "            sentence = []\n",
    "            for vec in record:\n",
    "                sentence.append(self.invDicMap[vec])\n",
    "            tweetRecords.append(sentence)    \n",
    "        return tweetRecords    "
   ]
  },
  {
   "cell_type": "code",
   "execution_count": 4,
   "metadata": {
    "collapsed": false
   },
   "outputs": [
    {
     "name": "stdout",
     "output_type": "stream",
     "text": [
      "Dictionary count: 2377\n"
     ]
    }
   ],
   "source": [
    "vectorToDoc = VectorToDoc()\n",
    "\n",
    "# tweetFile = \"docVectors1.csv\"\n",
    "# xdata = readWrite.readFile(tweetFile)\n",
    "\n",
    "# vectorToDoc = VectorToDoc()\n",
    "# tweetRecords = vectorToDoc.convertDoc(xdata)\n",
    "# print(tweetRecords)"
   ]
  }
 ],
 "metadata": {
  "anaconda-cloud": {},
  "kernelspec": {
   "display_name": "Python [default]",
   "language": "python",
   "name": "python3"
  },
  "language_info": {
   "codemirror_mode": {
    "name": "ipython",
    "version": 3
   },
   "file_extension": ".py",
   "mimetype": "text/x-python",
   "name": "python",
   "nbconvert_exporter": "python",
   "pygments_lexer": "ipython3",
   "version": "3.5.2"
  }
 },
 "nbformat": 4,
 "nbformat_minor": 1
}
