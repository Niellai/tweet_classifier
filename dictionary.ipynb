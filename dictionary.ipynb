{
 "cells": [
  {
   "cell_type": "code",
   "execution_count": 34,
   "metadata": {
    "collapsed": false
   },
   "outputs": [
    {
     "name": "stdout",
     "output_type": "stream",
     "text": [
      "[nltk_data] Downloading package stopwords to\n",
      "[nltk_data]     C:\\Users\\NielPC\\AppData\\Roaming\\nltk_data...\n",
      "[nltk_data]   Package stopwords is already up-to-date!\n",
      "[nltk_data] Downloading package punkt to\n",
      "[nltk_data]     C:\\Users\\NielPC\\AppData\\Roaming\\nltk_data...\n",
      "[nltk_data]   Package punkt is already up-to-date!\n"
     ]
    },
    {
     "data": {
      "text/plain": [
       "True"
      ]
     },
     "execution_count": 34,
     "metadata": {},
     "output_type": "execute_result"
    }
   ],
   "source": [
    "import codecs\n",
    "import os.path\n",
    "import re\n",
    "\n",
    "import nltk\n",
    "from nltk.corpus import stopwords\n",
    "from nltk.tokenize import word_tokenize\n",
    "from nltk.stem import PorterStemmer\n",
    "\n",
    "nltk.download('stopwords')\n",
    "nltk.download('punkt')"
   ]
  },
  {
   "cell_type": "code",
   "execution_count": 90,
   "metadata": {
    "collapsed": false
   },
   "outputs": [],
   "source": [
    "class Dictionary:\n",
    "    fileName = \"user_tweets.txt\"\n",
    "    stop_words = set(stopwords.words(\"english\"))\n",
    "    porterStem = PorterStemmer()\n",
    "    \n",
    "    # words include numbers\n",
    "    def getNumericWords(self, text):\n",
    "        return re.compile('\\w+').findall(text)\n",
    "\n",
    "    # words doesn't include numbers\n",
    "    def getWords(self, text):\n",
    "        # ref: https://stackoverflow.com/questions/7633274/extracting-words-from-a-string-removing-punctuation-and-returning-a-list-with-s\n",
    "        # c.isalnum -> alphaNumeric    \n",
    "        return ''.join((c if c.isalpha() else ' ') for c in text).split()\n",
    "\n",
    "    # remove url from tweet\n",
    "    def removeUrl(self, text):\n",
    "        formText = ''\n",
    "        textArr = text.split()\n",
    "        for text in textArr:\n",
    "            if text.find(\"http\") < 0:\n",
    "                formText += ' ' + text \n",
    "        return formText\n",
    "\n",
    "\n",
    "    '''\n",
    "    Reading pure dataset only contain record of tweet per line.\n",
    "    - Stop words will be filtered in tweet\n",
    "    - If dataset is small consider stemming, reduce dictionary size\n",
    "    - Returns array of words, each record is an array\n",
    "    '''\n",
    "    def readFile(self, fileName, isStemming=False):\n",
    "        resultArr = []\n",
    "        with codecs.open(fileName, \"r\", \"utf-8\") as file:                 \n",
    "            for line in file.readlines():     \n",
    "                line = line.lower()\n",
    "                line = self.removeUrl(line)            \n",
    "                lineArr = self.getWords(line)            \n",
    "                filtered_lineArr = [word for word in lineArr if not word in stop_words]                        \n",
    "\n",
    "                if isStemming:\n",
    "                    stem_lineArr = []\n",
    "                    for word in filtered_lineArr:\n",
    "                        stem_lineArr.append(porterStem.stem(word))                \n",
    "                    resultArr.append(stem_lineArr)\n",
    "                else:                                \n",
    "                    resultArr.append(filtered_lineArr)\n",
    "\n",
    "            return resultArr\n",
    "\n",
    "    '''\n",
    "    Create dictionary set on words array\n",
    "    '''\n",
    "    def createSet(self, tweetWordsArr):\n",
    "        result = set()\n",
    "        for words in tweetWordsArr:\n",
    "            wordsSet = set(words)\n",
    "            for word in wordsSet:\n",
    "                result.add(word)        \n",
    "        return result\n",
    "    "
   ]
  },
  {
   "cell_type": "code",
   "execution_count": 91,
   "metadata": {
    "collapsed": false
   },
   "outputs": [
    {
     "name": "stdout",
     "output_type": "stream",
     "text": [
      "1623\n",
      "{'investig', 'energi', 'mean', 'onsen', 'aircond', 'malaysia', 'survey', 'afraid', 'perfectli', 'ceas', 'blink', 'captain', 'sail', 'bigger', 'state', 'slow', 'prob', 'complaint', 'occur', 'yt', 'routin', 'mouth', 'ceo', 'dosent', 'harbourfront', 'form', 'paper', 'hell', 'pic', 'piec', 'wth', 'pretti', 'class', 'defect', 'unresolv', 'nvr', 'cross', 'hr', 'desmond', 'tanah', 'tgif', 'fire', 'sad', 'lack', 'envi', 'life', 'frequent', 'monthli', 'got', 'alr', 'slightli', 'abit', 'fi', 'solv', 'friday', 'buona', 'qn', 'reason', 'design', 'bu', 'solat', 'ehhh', 'best', 'peopl', 'gjcsingapor', 'inform', 'noth', 'justifi', 'knowledg', 'master', 'hahaha', 'altern', 'leav', 'sigh', 'mass', 'volum', 'asid', 'trust', 'either', 'marymount', 'unlik', 'lol', 'commenc', 'area', 'boulevard', 'hour', 'isnt', 'shud', 'ga', 'miss', 'declar', 'mani', 'light', 'combo', 'damn', 'rest', 'regard', 'must', 'siol', 'august', 'night', 'win', 'kio', 'improvemen', 'social', 'premium', 'explain', 'note', 'deliv', 'confin', 'camera', 'reduc', 'pull', 'splash', 'w', 'test', 'signa', 'unless', 'fine', 'somerset', 'x', 'dt', 'creat', 'car', 'kid', 'mainten', 'reopen', 'depict', 'aim', 'childcar', 'resum', 'stcom', 'warden', 'j', 'meh', 'khatib', 'admir', 'btwn', 'btw', 'erp', 'white', 'beauti', 'koon', 'situat', 'tsktsk', 'traib', 'patient', 'half', 'forgot', 'fray', 'interchang', 'bitch', 'good', 'wors', 'function', 'luckili', 'dear', 'realli', 'unsaf', 'everyon', 'lawsuit', 'thing', 'pier', 'stall', 'eve', 'onto', 'guid', 'comment', 'fksmrtmoven', 'knoe', 'strong', 'ang', 'button', 'dude', 'noisi', 'foot', 'cheap', 'uber', 'kang', 'khaw', 'proper', 'ar', 'smrtcekikdarah', 'sauna', 'teach', 'start', 'kind', 'hurri', 'overcrowd', 'bought', 'also', 'fix', 'wonder', 'nope', 'ac', 'fo', 'till', 'endang', 'accur', 'tourist', 'lta', 'yew', 'detour', 'overhead', 'silenc', 'idea', 'haizzz', 'health', 'yo', 'jerk', 'faster', 'mind', 'wat', 'downtown', 'updat', 'heard', 'els', 'bye', 'absolut', 'westbound', 'struggl', 'yewte', 'bravo', 'high', 'heat', 'put', 'inject', 'regret', 'bad', 'happen', 'funki', 'rise', 'thank', 'fastest', 'bridg', 'gdi', 'whenev', 'job', 'least', 'requir', 'moon', 'pm', 'extrem', 'condit', 'squish', 'armi', 'congest', 'deposit', 'liter', 'co', 'wifi', 'what', 'fcuke', 'weekday', 'vista', 'song', 'spoli', 'empti', 'rather', 'ul', 'ay', 'jelapang', 'guess', 'south', 'king', 'escal', 'anymor', 'movement', 'sunday', 'brim', 'suspend', 'dtl', 'par', 'unabl', 'guilti', 'need', 'justsay', 'ought', 'cab', 'wanna', 'nicshield', 'resolv', 'heck', 'east', 'equal', 'fli', 'sb', 'chibai', 'divert', 'bowel', 'ask', 'hi', 'prevent', 'nationalday', 'blame', 'bro', 'incharg', 'see', 'crap', 'similar', 'unclear', 'realis', 'ahmad', 'next', 'there', 'inter', 'shut', 'bullshit', 'capabl', 'post', 'checkpoint', 'welcom', 'differ', 'mistak', 'multipl', 'confus', 'lousi', 'fast', 'ew', 'lay', 'useless', 'side', 'honestli', 'thx', 'terribl', 'novena', 'bound', 'bless', 'apologis', 'tang', 'ju', 'miseri', 'annoy', 'plenti', 'crazi', 'zzzz', 'work', 'upgrad', 'titanium', 'gg', 'complet', 'bedok', 'rotten', 'outdat', 'ventil', 'paid', 'smile', 'littl', 'g', 'ur', 'accord', 'careless', 'first', 'swee', 'guy', 'remov', 'care', 'count', 'reflect', 'like', 'circl', 'anoumc', 'outsid', 'nobodi', 'wa', 'address', 'sinc', 'big', 'pick', 'year', 'extens', 'go', 'snd', 'came', 'ahtc', 'boast', 'pte', 'everyth', 'lj', 'effici', 'continu', 'c', 'im', 'four', 'incompet', 'properli', 'pray', 'appreci', 'smeth', 'cannot', 'slowli', 'sign', 'us', 'caus', 'nowaday', 'expect', 'netcitizen', 'per', 'fun', 'smell', 'crippl', 'necessari', 'huge', 'kbw', 'swear', 'boh', 'pedal', 'add', 'korea', 'respons', 'lei', 'father', 'ltd', 'srsli', 'fall', 'circumst', 'coffe', 'wow', 'tge', 'cbd', 'smoke', 'read', 'rout', 'deck', 'learn', 'oversight', 'logic', 'inspector', 'reg', 'announcem', 'sytem', 'one', 'sembawang', 'recur', 'la', 'laugh', 'upz', 'delay', 'hopeless', 'tomorrow', 'pleasent', 'christ', 'less', 'expo', 'dr', 'nice', 'stock', 'arr', 'den', 'notic', 'ns', 'basi', 'crawl', 'discount', 'limit', 'yourmoth', 'traffic', 'construct', 'restor', 'door', 'languag', 'gone', 'thursday', 'knn', 'omg', 'poorli', 'sia', 'west', 'waiv', 'challeng', 'percentag', 'inconvenienc', 'passgr', 'tissu', 'hor', 'smooth', 'dk', 'mention', 'account', 'stop', 'bodi', 'last', 'keep', 'die', 'sent', 'disgrac', 'hit', 'fault', 'told', 'ltasg', 'live', 'joo', 'brink', 'red', 'previous', 'solut', 'ahead', 'ysn', 'infrastructur', 'almost', 'ge', 'tlk', 'consid', 'staff', 'tri', 'elderli', 'return', 'somet', 'open', 'level', 'meaning', 'transport', 'exist', 'unfix', 'went', 'citi', 'look', 'bottom', 'offer', 'heed', 'show', 'full', 'fact', 'r', 'children', 'meter', 'cover', 'organis', 'automat', 'accid', 'mess', 'watch', 'perform', 'colleagu', 'eisen', 'gif', 'jump', 'anoth', 'model', 'poster', 'japan', 'bugismrt', 'newspap', 'celebr', 'goto', 'minist', 'talk', 'sbstransit', 'psd', 'resignal', 'propos', 'check', 'highli', 'ha', 'spend', 'noon', 'earlier', 'amp', 'rid', 'select', 'non', 'water', 'al', 'ibrahim', 'inflat', 'ust', 'cabin', 'boy', 'five', 'cancer', 'calm', 'lul', 'panjang', 'sg', 'advanc', 'knnccb', 'boonlay', 'stuff', 'af', 'probabl', 'profession', 'fail', 'huh', 'greatli', 'rt', 'walk', 'pok', 'compet', 'onenorth', 'taxi', 'technic', 'fyi', 'entir', 'fe', 'playin', 'stroller', 'decid', 'part', 'recommend', 'hidingdelay', 'understat', 'still', 'kranji', 'may', 'struck', 'japanes', 'yet', 'nv', 'impact', 'love', 'retard', 'lower', 'rahim', 'livelihood', 'manag', 'row', 'yesterday', 'that', 'wtf', 'ruin', 'smh', 'prayer', 'steven', 'passeng', 'asf', 'cockroach', 'chu', 'nonsens', 'msp', 'sight', 'due', 'suesan', 'understand', 'z', 'smrtsingapor', 'stfu', 'signallig', 'fight', 'enter', 'nearli', 'batok', 'rettenberg', 'shorten', 'immedi', 'oh', 'bike', 'meant', 'earli', 'broken', 'hope', 'push', 'eh', 'enjoy', 'attack', 'actual', 'stuffi', 'ive', 'capac', 'time', 'addit', 'econom', 'coz', 'frustrat', 'sudden', 'ride', 'spoil', 'accept', 'signal', 'claim', 'sort', 'met', 'liao', 'nowher', 'get', 'confuess', 'oct', 'snail', 'bah', 'short', 'indirectli', 'villa', 'compani', 'bin', 'come', 'assist', 'current', 'team', 'shld', 'je', 'doubt', 'room', 'clarifi', 'exactli', 'ah', 'bt', 'bloodi', 'rubber', 'especi', 'gloria', 'citizen', 'lmao', 'instead', 'green', 'tanjong', 'fml', 'later', 'system', 'charg', 'stupid', 'yishun', 'gt', 'hk', 'forti', 'funni', 'bio', 'mtbf', 'close', 'hillview', 'westinghous', 'moment', 'never', 'bunch', 'tra', 'busi', 'relook', 'joke', 'oblig', 'road', 'maghrib', 'serious', 'seletar', 'plan', 'payoh', 'largest', 'realloc', 'ca', 'everyday', 'travel', 'courtesi', 'interv', 'bishan', 'esp', 'unaccept', 'past', 'cunt', 'follow', 'leh', 'labour', 'chia', 'gonna', 'ever', 'rail', 'faulti', 'poor', 'hashtag', 'answer', 'hold', 'throughout', 'didnt', 'punch', 'hahahahaha', 'wednesday', 'pax', 'f', 'inde', 'improv', 'place', 'h', 'final', 'pleas', 'backward', 'project', 'backdoor', 'along', 'pregnant', 'gombak', 'pc', 'fuck', 'sial', 'atleast', 'period', 'tat', 'seek', 'nois', 'could', 'ng', 'cock', 'suppos', 'hot', 'roll', 'dog', 'press', 'day', 'use', 'user', 'direct', 'eat', 'aprreci', 'ago', 'north', 'race', 'asap', 'sound', 'instruct', 'hear', 'nt', 'heavi', 'ho', 'far', 'finish', 'detail', 'spoilt', 'cheer', 'mah', 'step', 'speaker', 'stroke', 'broke', 'ministri', 'name', 'aug', 'kuek', 'book', 'breakfast', 'phone', 'minimum', 'feedback', 'rude', 'unforeseen', 'sengkang', 'breakdown', 'grab', 'quick', 'vote', 'speed', 'well', 'via', 'pa', 'human', 'slower', 'hmm', 'beat', 'mad', 'tunnel', 'wast', 'train', 'alrd', 'someon', 'daili', 'reach', 'pathet', 'tanjongpagar', 'estim', 'coordin', 'suffer', 'singaporean', 'park', 'took', 'choke', 'boss', 'home', 'liddat', 'repair', 'mc', 'today', 'garden', 'interim', 'yll', 'settl', 'juli', 'space', 'dine', 'stamped', 'alrdi', 'wait', 'hide', 'frig', 'enough', 'agn', 'ty', 'jfc', 'problem', 'maintenac', 'exam', 'instant', 'buse', 'regular', 'away', 'mtg', 'altho', 'take', 'progress', 'better', 'shithol', 'smrtisuseless', 'lea', 'favor', 'minut', 'ewlin', 'rememb', 'con', 'breakdownssssss', 'result', 'geniu', 'woodland', 'affect', 'made', 'bowl', 'whereuhidingmot', 'clap', 'avail', 'driver', 'allow', 'todayonlin', 'everywher', 'usual', 'gantri', 'equip', 'fan', 'islandwid', 'new', 'held', 'report', 'grandma', 'altogeth', 'desmondkuekbc', 'singapor', 'sea', 'display', 'much', 'right', 'khartib', 'believ', 'uniform', 'admiralti', 'hardli', 'extra', 'queu', 'rd', 'peak', 'way', 'lead', 'male', 'find', 'cashew', 'rate', 'u', 'benefit', 'chicken', 'list', 'trainfault', 'soon', 'custom', 'week', 'cb', 'india', 'monkey', 'meet', 'none', 'wire', 'engin', 'trap', 'surrend', 'clear', 'giv', 'asham', 'preview', 'choachukang', 'excruciatingli', 'freak', 'tee', 'happi', 'incid', 'bayfront', 'great', 'taxifar', 'anytim', 'kiss', 'ti', 'mafaka', 'procedur', 'frequenc', 'stephen', 'suggest', 'ass', 'upset', 'lie', 'control', 'pleasant', 'scarier', 'proven', 'perpetu', 'thenewchop', 'impress', 'yr', 'sweeper', 'integr', 'cost', 'extend', 'probarli', 'quit', 'eleph', 'trailer', 'smoothli', 'engag', 'frankli', 'proof', 'recent', 'bag', 'digit', 'chines', 'senja', 'min', 'singel', 'obvious', 'squeez', 'yio', 'cant', 'hotel', 'give', 'ther', 'second', 'amaz', 'seen', 'say', 'smth', 'sandwich', 'albert', 'prelim', 'marathon', 'commut', 'correctli', 'ridicul', 'shitti', 'break', 'expens', 'plu', 'li', 'oper', 'consist', 'ri', 'hire', 'refund', 'cck', 'without', 'seat', 'gener', 'p', 'smrtfail', 'luk', 'sit', 'thankssss', 'inspir', 'let', 'ahahaha', 'schedul', 'minutesssss', 'fee', 'satisfact', 'smartnat', 'warn', 'stand', 'idiot', 'ya', 'urgent', 'otw', 'disrupt', 'jean', 'bplrt', 'old', 'resist', 'wish', 'pioneer', 'watev', 'machin', 'forev', 'media', 'ye', 'mistaken', 'acceler', 'nation', 'down', 'telok', 'pasirri', 'neither', 'mb', 'app', 'want', 'smrtsuck', 'ms', 'vs', 'vehicl', 'contact', 'nsl', 'fare', 'buck', 'everi', 'raffl', 'jalan', 'link', 'whatev', 'longest', 'market', 'facebook', 'walaooooooo', 'strike', 'incent', 'asshol', 'feel', 'jookoon', 'think', 'lck', 'zhun', 'occasion', 'sure', 'near', 'simei', 'self', 'mtr', 'call', 'twice', 'nerv', 'trail', 'twitter', 'worri', 'jurongeast', 'okay', 'gether', 'publish', 'def', 'burn', 'dont', 'build', 'number', 'rais', 'buay', 'promis', 'aid', 'would', 'damai', 'repli', 'run', 'blue', 'fuckkkkkkkkkk', 'blow', 'track', 'crane', 'person', 'late', 'fill', 'apolog', 'kathib', 'ach', 'togeth', 'sunset', 'bukit', 'game', 'sick', 'yeah', 'arriv', 'ky', 'ahhhh', 'nel', 'pasir', 'public', 'slogan', 'street', 'juic', 'sv', 'oi', 'fals', 'month', 'fug', 'sm', 'real', 'sack', 'pagar', 'shutter', 'top', 'contractor', 'invest', 'lrt', 'bkt', 'lef', 'handl', 'servic', 'marsil', 'b', 'wear', 'brake', 'ff', 'liar', 'bay', 'central', 'overnight', 'ndp', 'smrtisshit', 'excus', 'db', 'morn', 'third', 'suck', 'ensur', 'mo', 'clementi', 'price', 'badli', 'everybodi', 'done', 'ef', 'alway', 'drive', 'bother', 'guin', 'hg', 'umbrella', 'boon', 'hairul', 'inconveni', 'everytim', 'yck', 'tampin', 'consum', 'fckkkkk', 'tweet', 'k', 'smrtrock', 'abd', 'thought', 'bonus', 'fit', 'glad', 'svc', 'host', 'smrtfeedback', 'shit', 'toa', 'jurong', 'spent', 'issu', 'friend', 'irregular', 'trend', 'honest', 'failur', 'betw', 'station', 'lah', 'know', 'kpi', 'plaza', 'belief', 'whether', 'yall', 'bringthedotsback', 'commun', 'chinatown', 'prolli', 'admit', 'bugi', 'tap', 'advic', 'ineffici', 'ppl', 'tailgat', 'pictur', 'stationari', 'becom', 'taught', 'stress', 'comfort', 'ayer', 'simpli', 'tmr', 'fked', 'collaps', 'hand', 'move', 'cooler', 'advis', 'ad', 'air', 'defin', 'tire', 'miser', 'heart', 'piss', 'sorri', 'possibl', 'fr', 'liquid', 'wake', 'rapid', 'given', 'compens', 'muz', 'chew', 'ant', 'frm', 'bo', 'recov', 'longer', 'strategi', 'kk', 'quicker', 'predict', 'pace', 'school', 'crowd', 'occurr', 'downtownlin', 'board', 'surpris', 'packag', 'world', 'platform', 'son', 'pop', 'sooo', 'wireless', 'two', 'annoyedddddd', 'senior', 'relat', 'countless', 'newli', 'encount', 'kill', 'prefer', 'hai', 'supernorm', 'point', 'awesom', 'messag', 'though', 'joker', 'cuz', 'annouc', 'uncomfort', 'approach', 'journey', 'abl', 'aye', 'dhobi', 'pile', 'chang', 'joyrney', 'staystrong', 'oso', 'singl', 'coe', 'periodli', 'depart', 'aircon', 'sweat', 'lot', 'balesti', 'incapab', 'ban', 'sweet', 'duh', 'core', 'cbtc', 'standard', 'pack', 'alight', 'woman', 'outram', 'switch', 'sir', 'sla', 'ralli', 'sibei', 'bloddi', 'divers', 'sleep', 'safra', 'question', 'hang', 'semb', 'even', 'increas', 'norm', 'arrow', 'trip', 'freewifi', 'finger', 'braddel', 'god', 'nth', 'monday', 'pl', 'profit', 'resign', 'frantic', 'normal', 'shake', 'someth', 'announc', 'head', 'punggol', 'perman', 'said', 'other', 'nearest', 'busstop', 'horribl', 'tell', 'greet', 'irrit', 'riot', 'dumb', 'hall', 'izit', 'court', 'classifi', 'loss', 'fking', 'type', 'hello', 'suprem', 'warm', 'chat', 'long', 'unsteadili', 'unbeliev', 'beg', 'word', 'age', 'benoi', 'bs', 'disappoint', 'haw', 'offici', 'depot', 'closur', 'mother', 'free', 'marinasouthpi', 'particip', 'lucki', 'meanwhil', 'aerospac', 'l', 'changi', 'pay', 'merah', 'girlfriend', 'rush', 'repeat', 'pass', 'ladi', 'cbfuk', 'snl', 'make', 'n', 'smrt', 'avoid', 'bw', 'statu', 'asinin', 'destin', 'angmokio', 'tank', 'fk', 'kudo', 'seem', 'haterswillbehat', 'multipli', 'diabet', 'shite', 'lane', 'receipt', 'cut', 'end', 'amk', 'offic', 'lost', 'insan', 'line', 'common', 'duplic', 'wi', 'hey', 'licens', 'mrt', 'singaporert', 'redhil', 'pg', 'true', 'featur', 'transit', 'stuck', 'weird', 'rubbish', 'etc', 'screw', 'usuali', 'exit', 'unnecessari', 'english', 'wrong', 'cold', 'basic', 'entertain', 'neg', 'critic', 'blk', 'sake', 'tua', 'aziz', 'worst', 'faint', 'bij', 'rode', 'channelnewsasia', 'anyon', 'sy', 'record', 'impos', 'skip', 'mall', 'airport', 'provid', 'screen', 'left', 'expec', 'band', 'amount', 'tr', 'prompt', 'movena', 'outlet', 'smart', 'play', 'unreli', 'wtheck', 'countdown', 'orchard', 'proud', 'method', 'anuar', 'save', 'turn', 'develop', 'send', 'higher', 'insid', 'domino', 'middl', 'doubl', 'ghaut', 'money', 'gave', 'scorecard', 'experi', 'review', 'ewl', 'disclaim', 'quickli', 'rain', 'connect', 'network', 'whole', 'caldecott', 'lakesid', 'ard', 'indic', 'back', 'ing', 'thru', 'khawboonwan', 'correct', 'sum', 'ccl', 'shuttl', 'temporarili', 'forward', 'toward', 'success', 'jesu', 'perhap', 'bit', 'fulfil', 'enmerg', 'shouldnt', 'around', 'notif', 'inbetween', 'act', 'notanothersignalfault', 'nabei', 'dollar', 'anyth', 'couldnt', 'alreadi', 'gear', 'alert', 'help', 'rice', 'instal', 'penalti', 'stamp', 'readi', 'speak', 'tha', 'solid', 'card', 'wit', 'bco', 'man', 'attitud', 'marina', 'smrtsauna', 'hard', 'map', 'beyond', 'reliabl', 'omit', 'uk', 'toilet', 'ok', 'clueless'}\n"
     ]
    }
   ],
   "source": [
    "dic = Dictionary()\n",
    "resultArr = dic.readFile(fileName, True)\n",
    "resultSets = dic.createSet(resultArr)\n",
    "\n",
    "print(len(resultSets))\n",
    "print(resultSets)"
   ]
  }
 ],
 "metadata": {
  "anaconda-cloud": {},
  "kernelspec": {
   "display_name": "Python [default]",
   "language": "python",
   "name": "python3"
  },
  "language_info": {
   "codemirror_mode": {
    "name": "ipython",
    "version": 3
   },
   "file_extension": ".py",
   "mimetype": "text/x-python",
   "name": "python",
   "nbconvert_exporter": "python",
   "pygments_lexer": "ipython3",
   "version": "3.5.2"
  }
 },
 "nbformat": 4,
 "nbformat_minor": 1
}
