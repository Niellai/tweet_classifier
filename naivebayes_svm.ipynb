{
 "cells": [
  {
   "cell_type": "code",
   "execution_count": 1,
   "metadata": {
    "collapsed": false
   },
   "outputs": [
    {
     "name": "stdout",
     "output_type": "stream",
     "text": [
      "importing Jupyter notebook from readWrite.ipynb\n"
     ]
    }
   ],
   "source": [
    "import numpy as np\n",
    "\n",
    "import import_notebook\n",
    "from readWrite import ReadWrite"
   ]
  },
  {
   "cell_type": "code",
   "execution_count": 2,
   "metadata": {
    "collapsed": false
   },
   "outputs": [
    {
     "name": "stdout",
     "output_type": "stream",
     "text": [
      "line size more than 20, trim to: ['2356', ' 1257', ' 1689', ' 1391', ' 2330', ' 791', ' 80', ' 1060', ' 2002', ' 1884', ' 1060', ' 300', ' 2330', ' 1135', ' 1799', ' 2073', ' 1165', ' 2253', ' 185', ' 1207']\n",
      "line size more than 20, trim to: ['2356', ' 1257', ' 1239', ' 500', ' 851', ' 1568', ' 1932', ' 851', ' 1239', ' 2153', ' 138', ' 1239', ' 455', ' 1008', ' 1044', ' 21', ' 1243', ' 1302', ' 851', ' 1503']\n",
      "Read complete, total records: 1814\n",
      "Read complete, total records: 1814\n",
      "Read complete, total records: 731\n",
      "live data: (340,)\n",
      "test data: (731,)\n",
      "test_result data: (731,)\n",
      "tdata: (1814,)\n",
      "xdata: (1814, 20)\n",
      "ydata: (1814,)\n"
     ]
    }
   ],
   "source": [
    "tweetFile = \"combineVectors.csv\"\n",
    "tweetClassFile = \"combineVectorsResult.txt\"\n",
    "tweetData = \"combine_tweets.txt\"\n",
    "tweetLive = \"user_tweet_live.txt\"\n",
    "tweetTest = \"user_tweets.txt\"\n",
    "tweetTestResult = \"docVectors1Result.txt\"\n",
    "\n",
    "readWrite = ReadWrite()\n",
    "tdata = readWrite.readOriFile(tweetData)\n",
    "xdata = readWrite.readFile(tweetFile)\n",
    "ydata = readWrite.readFileClassifier(tweetClassFile)\n",
    "\n",
    "livedata = readWrite.readOriFile(tweetLive)\n",
    "livedata = np.array(livedata)\n",
    "\n",
    "testdata = readWrite.readOriFile(tweetTest)\n",
    "test_resultdata = readWrite.readFileClassifier(tweetTestResult)\n",
    "testdata = np.array(testdata)\n",
    "test_resultdata = np.array(test_resultdata)\n",
    "\n",
    "tdata = np.array(tdata)\n",
    "xdata = np.array(xdata)\n",
    "ydata = np.array(ydata)\n",
    "\n",
    "print(\"live data: {}\".format(livedata.shape))\n",
    "print(\"test data: {}\".format(testdata.shape))\n",
    "print(\"test_result data: {}\".format(test_resultdata.shape))\n",
    "\n",
    "print(\"tdata: {}\".format(tdata.shape))\n",
    "print(\"xdata: {}\".format(xdata.shape))\n",
    "print(\"ydata: {}\".format(ydata.shape))"
   ]
  },
  {
   "cell_type": "code",
   "execution_count": 3,
   "metadata": {
    "collapsed": false
   },
   "outputs": [
    {
     "name": "stdout",
     "output_type": "stream",
     "text": [
      "X_train_count: (1814, 3473)\n",
      "X_train_tfidf: (1814, 3473)\n"
     ]
    }
   ],
   "source": [
    "# Extracting features from text files\n",
    "from sklearn.feature_extraction.text import CountVectorizer\n",
    "count_vect = CountVectorizer()\n",
    "X_train_count = count_vect.fit_transform(tdata)\n",
    "print(\"X_train_count: {}\".format(X_train_count.shape))\n",
    "\n",
    "# TF-IDF\n",
    "from sklearn.feature_extraction.text import TfidfTransformer\n",
    "tfidf_transformer = TfidfTransformer()\n",
    "X_train_tfidf = tfidf_transformer.fit_transform(X_train_count)\n",
    "print(\"X_train_tfidf: {}\".format(X_train_tfidf.shape))\n",
    "\n",
    "# Machine Learning\n",
    "# Training Naive Bayes (NB) classifier on training data.\n",
    "from sklearn.naive_bayes import MultinomialNB\n",
    "clf = MultinomialNB().fit(X_train_tfidf, ydata)"
   ]
  },
  {
   "cell_type": "code",
   "execution_count": 4,
   "metadata": {
    "collapsed": false
   },
   "outputs": [
    {
     "name": "stdout",
     "output_type": "stream",
     "text": [
      "Naive Bayes\n",
      "Acuraccy: 0.812585499316\n"
     ]
    }
   ],
   "source": [
    "'''\n",
    "Naive Bayes\n",
    "'''\n",
    "# Building a pipeline: We can write less code and do all of the above, by building a pipeline as follows:\n",
    "# The names ‘vect’ , ‘tfidf’ and ‘clf’ are arbitrary but will be used later.\n",
    "# We will be using the 'text_clf' going forward.\n",
    "from sklearn.pipeline import Pipeline\n",
    "text_clf = Pipeline([('vect', CountVectorizer()), ('tfidf', TfidfTransformer()), ('clf', MultinomialNB())])\n",
    "text_clf = text_clf.fit(tdata, ydata)\n",
    "\n",
    "# Performance of NB Classifier\n",
    "predicted = text_clf.predict(testdata)\n",
    "print(\"Naive Bayes\")\n",
    "print(\"Acuraccy: %s\" % np.mean(predicted == test_resultdata))"
   ]
  },
  {
   "cell_type": "code",
   "execution_count": 5,
   "metadata": {
    "collapsed": false
   },
   "outputs": [
    {
     "name": "stdout",
     "output_type": "stream",
     "text": [
      "SVM\n",
      "Acuraccy: 0.893296853625\n"
     ]
    }
   ],
   "source": [
    "'''\n",
    "SVM\n",
    "'''\n",
    "# Training Support Vector Machines - SVM and calculating its performance\n",
    "from sklearn.linear_model import SGDClassifier\n",
    "text_clf_svm = Pipeline([('vect', CountVectorizer()), ('tfidf', TfidfTransformer()),\n",
    "                         ('clf-svm', SGDClassifier(loss='hinge', penalty='l2',alpha=1e-3, random_state=42))])\n",
    "\n",
    "text_clf_svm = text_clf_svm.fit(tdata, ydata)\n",
    "predicted_svm = text_clf_svm.predict(testdata)\n",
    "print(\"SVM\")\n",
    "print(\"Acuraccy: %s\" % np.mean(predicted_svm == test_resultdata))"
   ]
  },
  {
   "cell_type": "code",
   "execution_count": 6,
   "metadata": {
    "collapsed": false
   },
   "outputs": [
    {
     "name": "stdout",
     "output_type": "stream",
     "text": [
      "Grid Search\n",
      "Acuraccy: 0.987688098495\n"
     ]
    }
   ],
   "source": [
    "'''\n",
    "Grid Search\n",
    "'''\n",
    "# Here, we are creating a list of parameters for which we would like to do performance tuning. \n",
    "# All the parameters name start with the classifier name (remember the arbitrary name we gave). \n",
    "# E.g. vect__ngram_range; here we are telling to use unigram and bigrams and choose the one which is optimal.\n",
    "\n",
    "from sklearn.model_selection import GridSearchCV\n",
    "parameters = {'vect__ngram_range': [(1, 1), (1, 2)], 'tfidf__use_idf': (True, False), 'clf__alpha': (1e-2, 1e-3)}\n",
    "\n",
    "# Next, we create an instance of the grid search by passing the classifier, parameters \n",
    "# and n_jobs=-1 which tells to use multiple cores from user machine.\n",
    "\n",
    "gs_clf = GridSearchCV(text_clf, parameters, n_jobs=-1)\n",
    "gs_clf = gs_clf.fit(tdata, ydata)\n",
    "predicted_gs = gs_clf.predict(testdata)\n",
    "print(\"Grid Search\")\n",
    "print(\"Acuraccy: %s\" % np.mean(predicted_gs == test_resultdata))"
   ]
  },
  {
   "cell_type": "code",
   "execution_count": 32,
   "metadata": {
    "collapsed": false
   },
   "outputs": [
    {
     "name": "stdout",
     "output_type": "stream",
     "text": [
      "2\n",
      "@SBSTransit_Ltd Is there a delay on the NE Line now???\n"
     ]
    }
   ],
   "source": [
    "def printPredict(predicted, data):\n",
    "    for idx, score in enumerate(predicted):    \n",
    "        if(score > 0): \n",
    "            print(score)\n",
    "            print(data[idx])\n",
    "            \n",
    "# Testing on unknown/live data\n",
    "predicted = gs_clf.predict(livedata)\n",
    "# printPredict(predicted, livedata)\n",
    "\n",
    "sentence = []\n",
    "sentence.append(\"@SBSTransit_Ltd Is there a delay on the NE Line now???\")\n",
    "sen_predicted = gs_clf.predict(sentence)\n",
    "printPredict(sen_predicted, sentence)"
   ]
  }
 ],
 "metadata": {
  "kernelspec": {
   "display_name": "Python [default]",
   "language": "python",
   "name": "python3"
  },
  "language_info": {
   "codemirror_mode": {
    "name": "ipython",
    "version": 3
   },
   "file_extension": ".py",
   "mimetype": "text/x-python",
   "name": "python",
   "nbconvert_exporter": "python",
   "pygments_lexer": "ipython3",
   "version": "3.5.2"
  }
 },
 "nbformat": 4,
 "nbformat_minor": 1
}
